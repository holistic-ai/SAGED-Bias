{
 "cells": [
  {
   "cell_type": "code",
   "outputs": [
    {
     "name": "stdout",
     "output_type": "stream",
     "text": [
      "Requirement already satisfied: SAGEDbias==0.0.13 in /Users/zekunwu/Desktop/HAI-UCL-Hackathon/.venv/lib/python3.10/site-packages (0.0.13)\r\n",
      "Requirement already satisfied: bs4<0.0.3,>=0.0.2 in /Users/zekunwu/Desktop/HAI-UCL-Hackathon/.venv/lib/python3.10/site-packages (from SAGEDbias==0.0.13) (0.0.2)\r\n",
      "Requirement already satisfied: nltk<4.0.0,>=3.8.1 in /Users/zekunwu/Desktop/HAI-UCL-Hackathon/.venv/lib/python3.10/site-packages (from SAGEDbias==0.0.13) (3.9.1)\r\n",
      "Requirement already satisfied: numpy<2.0.0,>=1.22.0 in /Users/zekunwu/Desktop/HAI-UCL-Hackathon/.venv/lib/python3.10/site-packages (from SAGEDbias==0.0.13) (1.26.4)\r\n",
      "Requirement already satisfied: pandas<3.0.0,>=2.0.0 in /Users/zekunwu/Desktop/HAI-UCL-Hackathon/.venv/lib/python3.10/site-packages (from SAGEDbias==0.0.13) (2.2.3)\r\n",
      "Requirement already satisfied: requests<3.0.0,>=2.32.3 in /Users/zekunwu/Desktop/HAI-UCL-Hackathon/.venv/lib/python3.10/site-packages (from SAGEDbias==0.0.13) (2.32.3)\r\n",
      "Requirement already satisfied: scikit-learn<2.0.0,>=1.4.0 in /Users/zekunwu/Desktop/HAI-UCL-Hackathon/.venv/lib/python3.10/site-packages (from SAGEDbias==0.0.13) (1.5.2)\r\n",
      "Requirement already satisfied: scipy<2.0.0,>=1.7.3 in /Users/zekunwu/Desktop/HAI-UCL-Hackathon/.venv/lib/python3.10/site-packages (from SAGEDbias==0.0.13) (1.14.1)\r\n",
      "Requirement already satisfied: sentence-transformers<4.0.0,>=3.0.0 in /Users/zekunwu/Desktop/HAI-UCL-Hackathon/.venv/lib/python3.10/site-packages (from SAGEDbias==0.0.13) (3.3.1)\r\n",
      "Requirement already satisfied: spacy<4.0.0,>=3.2.1 in /Users/zekunwu/Desktop/HAI-UCL-Hackathon/.venv/lib/python3.10/site-packages (from SAGEDbias==0.0.13) (3.7.5)\r\n",
      "Requirement already satisfied: tqdm<5.0.0,>=4.66.4 in /Users/zekunwu/Desktop/HAI-UCL-Hackathon/.venv/lib/python3.10/site-packages (from SAGEDbias==0.0.13) (4.66.5)\r\n",
      "Requirement already satisfied: transformers<5.0.0,>=4.11.3 in /Users/zekunwu/Desktop/HAI-UCL-Hackathon/.venv/lib/python3.10/site-packages (from SAGEDbias==0.0.13) (4.45.2)\r\n",
      "Requirement already satisfied: wikipedia-api<0.8.0,>=0.7.0 in /Users/zekunwu/Desktop/HAI-UCL-Hackathon/.venv/lib/python3.10/site-packages (from SAGEDbias==0.0.13) (0.7.1)\r\n",
      "Requirement already satisfied: beautifulsoup4 in /Users/zekunwu/Desktop/HAI-UCL-Hackathon/.venv/lib/python3.10/site-packages (from bs4<0.0.3,>=0.0.2->SAGEDbias==0.0.13) (4.12.3)\r\n",
      "Requirement already satisfied: click in /Users/zekunwu/Desktop/HAI-UCL-Hackathon/.venv/lib/python3.10/site-packages (from nltk<4.0.0,>=3.8.1->SAGEDbias==0.0.13) (8.1.7)\r\n",
      "Requirement already satisfied: joblib in /Users/zekunwu/Desktop/HAI-UCL-Hackathon/.venv/lib/python3.10/site-packages (from nltk<4.0.0,>=3.8.1->SAGEDbias==0.0.13) (1.4.2)\r\n",
      "Requirement already satisfied: regex>=2021.8.3 in /Users/zekunwu/Desktop/HAI-UCL-Hackathon/.venv/lib/python3.10/site-packages (from nltk<4.0.0,>=3.8.1->SAGEDbias==0.0.13) (2024.9.11)\r\n",
      "Requirement already satisfied: python-dateutil>=2.8.2 in /Users/zekunwu/Desktop/HAI-UCL-Hackathon/.venv/lib/python3.10/site-packages (from pandas<3.0.0,>=2.0.0->SAGEDbias==0.0.13) (2.9.0.post0)\r\n",
      "Requirement already satisfied: pytz>=2020.1 in /Users/zekunwu/Desktop/HAI-UCL-Hackathon/.venv/lib/python3.10/site-packages (from pandas<3.0.0,>=2.0.0->SAGEDbias==0.0.13) (2024.2)\r\n",
      "Requirement already satisfied: tzdata>=2022.7 in /Users/zekunwu/Desktop/HAI-UCL-Hackathon/.venv/lib/python3.10/site-packages (from pandas<3.0.0,>=2.0.0->SAGEDbias==0.0.13) (2024.2)\r\n",
      "Requirement already satisfied: charset-normalizer<4,>=2 in /Users/zekunwu/Desktop/HAI-UCL-Hackathon/.venv/lib/python3.10/site-packages (from requests<3.0.0,>=2.32.3->SAGEDbias==0.0.13) (3.4.0)\r\n",
      "Requirement already satisfied: idna<4,>=2.5 in /Users/zekunwu/Desktop/HAI-UCL-Hackathon/.venv/lib/python3.10/site-packages (from requests<3.0.0,>=2.32.3->SAGEDbias==0.0.13) (3.10)\r\n",
      "Requirement already satisfied: urllib3<3,>=1.21.1 in /Users/zekunwu/Desktop/HAI-UCL-Hackathon/.venv/lib/python3.10/site-packages (from requests<3.0.0,>=2.32.3->SAGEDbias==0.0.13) (2.2.3)\r\n",
      "Requirement already satisfied: certifi>=2017.4.17 in /Users/zekunwu/Desktop/HAI-UCL-Hackathon/.venv/lib/python3.10/site-packages (from requests<3.0.0,>=2.32.3->SAGEDbias==0.0.13) (2024.8.30)\r\n",
      "Requirement already satisfied: threadpoolctl>=3.1.0 in /Users/zekunwu/Desktop/HAI-UCL-Hackathon/.venv/lib/python3.10/site-packages (from scikit-learn<2.0.0,>=1.4.0->SAGEDbias==0.0.13) (3.5.0)\r\n",
      "Requirement already satisfied: torch>=1.11.0 in /Users/zekunwu/Desktop/HAI-UCL-Hackathon/.venv/lib/python3.10/site-packages (from sentence-transformers<4.0.0,>=3.0.0->SAGEDbias==0.0.13) (2.5.1)\r\n",
      "Requirement already satisfied: huggingface-hub>=0.20.0 in /Users/zekunwu/Desktop/HAI-UCL-Hackathon/.venv/lib/python3.10/site-packages (from sentence-transformers<4.0.0,>=3.0.0->SAGEDbias==0.0.13) (0.26.1)\r\n",
      "Requirement already satisfied: Pillow in /Users/zekunwu/Desktop/HAI-UCL-Hackathon/.venv/lib/python3.10/site-packages (from sentence-transformers<4.0.0,>=3.0.0->SAGEDbias==0.0.13) (10.4.0)\r\n",
      "Requirement already satisfied: spacy-legacy<3.1.0,>=3.0.11 in /Users/zekunwu/Desktop/HAI-UCL-Hackathon/.venv/lib/python3.10/site-packages (from spacy<4.0.0,>=3.2.1->SAGEDbias==0.0.13) (3.0.12)\r\n",
      "Requirement already satisfied: spacy-loggers<2.0.0,>=1.0.0 in /Users/zekunwu/Desktop/HAI-UCL-Hackathon/.venv/lib/python3.10/site-packages (from spacy<4.0.0,>=3.2.1->SAGEDbias==0.0.13) (1.0.5)\r\n",
      "Requirement already satisfied: murmurhash<1.1.0,>=0.28.0 in /Users/zekunwu/Desktop/HAI-UCL-Hackathon/.venv/lib/python3.10/site-packages (from spacy<4.0.0,>=3.2.1->SAGEDbias==0.0.13) (1.0.10)\r\n",
      "Requirement already satisfied: cymem<2.1.0,>=2.0.2 in /Users/zekunwu/Desktop/HAI-UCL-Hackathon/.venv/lib/python3.10/site-packages (from spacy<4.0.0,>=3.2.1->SAGEDbias==0.0.13) (2.0.8)\r\n",
      "Requirement already satisfied: preshed<3.1.0,>=3.0.2 in /Users/zekunwu/Desktop/HAI-UCL-Hackathon/.venv/lib/python3.10/site-packages (from spacy<4.0.0,>=3.2.1->SAGEDbias==0.0.13) (3.0.9)\r\n",
      "Requirement already satisfied: thinc<8.3.0,>=8.2.2 in /Users/zekunwu/Desktop/HAI-UCL-Hackathon/.venv/lib/python3.10/site-packages (from spacy<4.0.0,>=3.2.1->SAGEDbias==0.0.13) (8.2.5)\r\n",
      "Requirement already satisfied: wasabi<1.2.0,>=0.9.1 in /Users/zekunwu/Desktop/HAI-UCL-Hackathon/.venv/lib/python3.10/site-packages (from spacy<4.0.0,>=3.2.1->SAGEDbias==0.0.13) (1.1.3)\r\n",
      "Requirement already satisfied: srsly<3.0.0,>=2.4.3 in /Users/zekunwu/Desktop/HAI-UCL-Hackathon/.venv/lib/python3.10/site-packages (from spacy<4.0.0,>=3.2.1->SAGEDbias==0.0.13) (2.4.8)\r\n",
      "Requirement already satisfied: catalogue<2.1.0,>=2.0.6 in /Users/zekunwu/Desktop/HAI-UCL-Hackathon/.venv/lib/python3.10/site-packages (from spacy<4.0.0,>=3.2.1->SAGEDbias==0.0.13) (2.0.10)\r\n",
      "Requirement already satisfied: weasel<0.5.0,>=0.1.0 in /Users/zekunwu/Desktop/HAI-UCL-Hackathon/.venv/lib/python3.10/site-packages (from spacy<4.0.0,>=3.2.1->SAGEDbias==0.0.13) (0.4.1)\r\n",
      "Requirement already satisfied: typer<1.0.0,>=0.3.0 in /Users/zekunwu/Desktop/HAI-UCL-Hackathon/.venv/lib/python3.10/site-packages (from spacy<4.0.0,>=3.2.1->SAGEDbias==0.0.13) (0.12.5)\r\n",
      "Requirement already satisfied: pydantic!=1.8,!=1.8.1,<3.0.0,>=1.7.4 in /Users/zekunwu/Desktop/HAI-UCL-Hackathon/.venv/lib/python3.10/site-packages (from spacy<4.0.0,>=3.2.1->SAGEDbias==0.0.13) (2.9.2)\r\n",
      "Requirement already satisfied: jinja2 in /Users/zekunwu/Desktop/HAI-UCL-Hackathon/.venv/lib/python3.10/site-packages (from spacy<4.0.0,>=3.2.1->SAGEDbias==0.0.13) (3.1.4)\r\n",
      "Requirement already satisfied: setuptools in /Users/zekunwu/Desktop/HAI-UCL-Hackathon/.venv/lib/python3.10/site-packages (from spacy<4.0.0,>=3.2.1->SAGEDbias==0.0.13) (68.2.0)\r\n",
      "Requirement already satisfied: packaging>=20.0 in /Users/zekunwu/Desktop/HAI-UCL-Hackathon/.venv/lib/python3.10/site-packages (from spacy<4.0.0,>=3.2.1->SAGEDbias==0.0.13) (24.1)\r\n",
      "Requirement already satisfied: langcodes<4.0.0,>=3.2.0 in /Users/zekunwu/Desktop/HAI-UCL-Hackathon/.venv/lib/python3.10/site-packages (from spacy<4.0.0,>=3.2.1->SAGEDbias==0.0.13) (3.5.0)\r\n",
      "Requirement already satisfied: filelock in /Users/zekunwu/Desktop/HAI-UCL-Hackathon/.venv/lib/python3.10/site-packages (from transformers<5.0.0,>=4.11.3->SAGEDbias==0.0.13) (3.16.1)\r\n",
      "Requirement already satisfied: pyyaml>=5.1 in /Users/zekunwu/Desktop/HAI-UCL-Hackathon/.venv/lib/python3.10/site-packages (from transformers<5.0.0,>=4.11.3->SAGEDbias==0.0.13) (6.0.2)\r\n",
      "Requirement already satisfied: safetensors>=0.4.1 in /Users/zekunwu/Desktop/HAI-UCL-Hackathon/.venv/lib/python3.10/site-packages (from transformers<5.0.0,>=4.11.3->SAGEDbias==0.0.13) (0.4.5)\r\n",
      "Requirement already satisfied: tokenizers<0.21,>=0.20 in /Users/zekunwu/Desktop/HAI-UCL-Hackathon/.venv/lib/python3.10/site-packages (from transformers<5.0.0,>=4.11.3->SAGEDbias==0.0.13) (0.20.1)\r\n",
      "Requirement already satisfied: fsspec>=2023.5.0 in /Users/zekunwu/Desktop/HAI-UCL-Hackathon/.venv/lib/python3.10/site-packages (from huggingface-hub>=0.20.0->sentence-transformers<4.0.0,>=3.0.0->SAGEDbias==0.0.13) (2024.9.0)\r\n",
      "Requirement already satisfied: typing-extensions>=3.7.4.3 in /Users/zekunwu/Desktop/HAI-UCL-Hackathon/.venv/lib/python3.10/site-packages (from huggingface-hub>=0.20.0->sentence-transformers<4.0.0,>=3.0.0->SAGEDbias==0.0.13) (4.12.2)\r\n",
      "Requirement already satisfied: language-data>=1.2 in /Users/zekunwu/Desktop/HAI-UCL-Hackathon/.venv/lib/python3.10/site-packages (from langcodes<4.0.0,>=3.2.0->spacy<4.0.0,>=3.2.1->SAGEDbias==0.0.13) (1.3.0)\r\n",
      "Requirement already satisfied: annotated-types>=0.6.0 in /Users/zekunwu/Desktop/HAI-UCL-Hackathon/.venv/lib/python3.10/site-packages (from pydantic!=1.8,!=1.8.1,<3.0.0,>=1.7.4->spacy<4.0.0,>=3.2.1->SAGEDbias==0.0.13) (0.7.0)\r\n",
      "Requirement already satisfied: pydantic-core==2.23.4 in /Users/zekunwu/Desktop/HAI-UCL-Hackathon/.venv/lib/python3.10/site-packages (from pydantic!=1.8,!=1.8.1,<3.0.0,>=1.7.4->spacy<4.0.0,>=3.2.1->SAGEDbias==0.0.13) (2.23.4)\r\n",
      "Requirement already satisfied: six>=1.5 in /Users/zekunwu/Desktop/HAI-UCL-Hackathon/.venv/lib/python3.10/site-packages (from python-dateutil>=2.8.2->pandas<3.0.0,>=2.0.0->SAGEDbias==0.0.13) (1.16.0)\r\n",
      "Requirement already satisfied: blis<0.8.0,>=0.7.8 in /Users/zekunwu/Desktop/HAI-UCL-Hackathon/.venv/lib/python3.10/site-packages (from thinc<8.3.0,>=8.2.2->spacy<4.0.0,>=3.2.1->SAGEDbias==0.0.13) (0.7.11)\r\n",
      "Requirement already satisfied: confection<1.0.0,>=0.0.1 in /Users/zekunwu/Desktop/HAI-UCL-Hackathon/.venv/lib/python3.10/site-packages (from thinc<8.3.0,>=8.2.2->spacy<4.0.0,>=3.2.1->SAGEDbias==0.0.13) (0.1.5)\r\n",
      "Requirement already satisfied: networkx in /Users/zekunwu/Desktop/HAI-UCL-Hackathon/.venv/lib/python3.10/site-packages (from torch>=1.11.0->sentence-transformers<4.0.0,>=3.0.0->SAGEDbias==0.0.13) (3.4.2)\r\n",
      "Requirement already satisfied: sympy==1.13.1 in /Users/zekunwu/Desktop/HAI-UCL-Hackathon/.venv/lib/python3.10/site-packages (from torch>=1.11.0->sentence-transformers<4.0.0,>=3.0.0->SAGEDbias==0.0.13) (1.13.1)\r\n",
      "Requirement already satisfied: mpmath<1.4,>=1.1.0 in /Users/zekunwu/Desktop/HAI-UCL-Hackathon/.venv/lib/python3.10/site-packages (from sympy==1.13.1->torch>=1.11.0->sentence-transformers<4.0.0,>=3.0.0->SAGEDbias==0.0.13) (1.3.0)\r\n",
      "Requirement already satisfied: shellingham>=1.3.0 in /Users/zekunwu/Desktop/HAI-UCL-Hackathon/.venv/lib/python3.10/site-packages (from typer<1.0.0,>=0.3.0->spacy<4.0.0,>=3.2.1->SAGEDbias==0.0.13) (1.5.4)\r\n",
      "Requirement already satisfied: rich>=10.11.0 in /Users/zekunwu/Desktop/HAI-UCL-Hackathon/.venv/lib/python3.10/site-packages (from typer<1.0.0,>=0.3.0->spacy<4.0.0,>=3.2.1->SAGEDbias==0.0.13) (13.9.3)\r\n",
      "Requirement already satisfied: cloudpathlib<1.0.0,>=0.7.0 in /Users/zekunwu/Desktop/HAI-UCL-Hackathon/.venv/lib/python3.10/site-packages (from weasel<0.5.0,>=0.1.0->spacy<4.0.0,>=3.2.1->SAGEDbias==0.0.13) (0.20.0)\r\n",
      "Requirement already satisfied: smart-open<8.0.0,>=5.2.1 in /Users/zekunwu/Desktop/HAI-UCL-Hackathon/.venv/lib/python3.10/site-packages (from weasel<0.5.0,>=0.1.0->spacy<4.0.0,>=3.2.1->SAGEDbias==0.0.13) (7.0.5)\r\n",
      "Requirement already satisfied: soupsieve>1.2 in /Users/zekunwu/Desktop/HAI-UCL-Hackathon/.venv/lib/python3.10/site-packages (from beautifulsoup4->bs4<0.0.3,>=0.0.2->SAGEDbias==0.0.13) (2.6)\r\n",
      "Requirement already satisfied: MarkupSafe>=2.0 in /Users/zekunwu/Desktop/HAI-UCL-Hackathon/.venv/lib/python3.10/site-packages (from jinja2->spacy<4.0.0,>=3.2.1->SAGEDbias==0.0.13) (3.0.2)\r\n",
      "Requirement already satisfied: marisa-trie>=1.1.0 in /Users/zekunwu/Desktop/HAI-UCL-Hackathon/.venv/lib/python3.10/site-packages (from language-data>=1.2->langcodes<4.0.0,>=3.2.0->spacy<4.0.0,>=3.2.1->SAGEDbias==0.0.13) (1.2.1)\r\n",
      "Requirement already satisfied: markdown-it-py>=2.2.0 in /Users/zekunwu/Desktop/HAI-UCL-Hackathon/.venv/lib/python3.10/site-packages (from rich>=10.11.0->typer<1.0.0,>=0.3.0->spacy<4.0.0,>=3.2.1->SAGEDbias==0.0.13) (3.0.0)\r\n",
      "Requirement already satisfied: pygments<3.0.0,>=2.13.0 in /Users/zekunwu/Desktop/HAI-UCL-Hackathon/.venv/lib/python3.10/site-packages (from rich>=10.11.0->typer<1.0.0,>=0.3.0->spacy<4.0.0,>=3.2.1->SAGEDbias==0.0.13) (2.18.0)\r\n",
      "Requirement already satisfied: wrapt in /Users/zekunwu/Desktop/HAI-UCL-Hackathon/.venv/lib/python3.10/site-packages (from smart-open<8.0.0,>=5.2.1->weasel<0.5.0,>=0.1.0->spacy<4.0.0,>=3.2.1->SAGEDbias==0.0.13) (1.17.0)\r\n",
      "Requirement already satisfied: mdurl~=0.1 in /Users/zekunwu/Desktop/HAI-UCL-Hackathon/.venv/lib/python3.10/site-packages (from markdown-it-py>=2.2.0->rich>=10.11.0->typer<1.0.0,>=0.3.0->spacy<4.0.0,>=3.2.1->SAGEDbias==0.0.13) (0.1.2)\r\n",
      "\r\n",
      "\u001B[1m[\u001B[0m\u001B[34;49mnotice\u001B[0m\u001B[1;39;49m]\u001B[0m\u001B[39;49m A new release of pip is available: \u001B[0m\u001B[31;49m23.2.1\u001B[0m\u001B[39;49m -> \u001B[0m\u001B[32;49m24.3.1\u001B[0m\r\n",
      "\u001B[1m[\u001B[0m\u001B[34;49mnotice\u001B[0m\u001B[1;39;49m]\u001B[0m\u001B[39;49m To update, run: \u001B[0m\u001B[32;49mpip install --upgrade pip\u001B[0m\r\n"
     ]
    }
   ],
   "source": [
    "!pip install SAGEDbias==0.0.13"
   ],
   "metadata": {
    "collapsed": false,
    "ExecuteTime": {
     "end_time": "2024-12-03T19:08:29.001434Z",
     "start_time": "2024-12-03T19:08:26.097547Z"
    }
   },
   "id": "cea2845dfd062c0d",
   "execution_count": 2
  },
  {
   "cell_type": "code",
   "execution_count": 5,
   "id": "initial_id",
   "metadata": {
    "collapsed": true,
    "ExecuteTime": {
     "end_time": "2024-12-03T19:09:49.917335Z",
     "start_time": "2024-12-03T19:09:49.914386Z"
    }
   },
   "outputs": [],
   "source": [
    "from saged import (\n",
    "    SAGEDData,\n",
    "    FeatureExtractor,\n",
    "    DisparityDiagnoser,\n",
    "    KeywordFinder,\n",
    "    SourceFinder,\n",
    "    Scraper,\n",
    "    PromptAssembler,\n",
    "    ResponseGenerator,\n",
    "    Pipeline\n",
    ")\n",
    "\n",
    "domain = \"nationalities\"\n",
    "category = \"black people\"\n",
    "keywords_data = SAGEDData.create_data(domain, category, \"keywords\")"
   ]
  },
  {
   "cell_type": "code",
   "outputs": [],
   "source": [
    "keywords_to_add = [\"black\"]\n",
    "for keyword in keywords_to_add:\n",
    "    keywords_data.add(keyword=keyword)"
   ],
   "metadata": {
    "collapsed": false,
    "ExecuteTime": {
     "end_time": "2024-12-03T19:09:51.005449Z",
     "start_time": "2024-12-03T19:09:51.002649Z"
    }
   },
   "id": "4f324acc90ff54d",
   "execution_count": 6
  },
  {
   "cell_type": "code",
   "outputs": [
    {
     "name": "stdout",
     "output_type": "stream",
     "text": [
      "Category: black people, Domain: nationalities\n",
      "  Keywords: black\n"
     ]
    }
   ],
   "source": [
    "keywords_data.show(data_tier=\"keywords\")"
   ],
   "metadata": {
    "collapsed": false,
    "ExecuteTime": {
     "end_time": "2024-12-03T19:10:31.369892Z",
     "start_time": "2024-12-03T19:10:31.367484Z"
    }
   },
   "id": "9760bb5200253b66",
   "execution_count": 10
  },
  {
   "cell_type": "code",
   "outputs": [],
   "source": [],
   "metadata": {
    "collapsed": false
   },
   "id": "ed7d38c7f14eeb9d"
  }
 ],
 "metadata": {
  "kernelspec": {
   "display_name": "Python 3",
   "language": "python",
   "name": "python3"
  },
  "language_info": {
   "codemirror_mode": {
    "name": "ipython",
    "version": 2
   },
   "file_extension": ".py",
   "mimetype": "text/x-python",
   "name": "python",
   "nbconvert_exporter": "python",
   "pygments_lexer": "ipython2",
   "version": "2.7.6"
  }
 },
 "nbformat": 4,
 "nbformat_minor": 5
}
