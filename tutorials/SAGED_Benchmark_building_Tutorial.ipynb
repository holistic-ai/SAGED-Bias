{
 "cells": [
  {
   "cell_type": "markdown",
   "id": "ef6898b4",
   "metadata": {},
   "source": [
    "### SAGED Benchmarking Pipeline Tutorial\n",
    "\n",
    "This tutorial demonstrates how to set up and execute a benchmarking pipeline using the `SAGED` library and a custom Ollama model. Follow the steps below to get started."
   ]
  },
  {
   "cell_type": "markdown",
   "id": "3c748dd1",
   "metadata": {},
   "source": [
    "#### Step 1: Install Dependencies\n",
    "First, install the required libraries.\n",
    "\n",
    "```bash\n",
    "!pip install sagedbias ollama\n",
    "```"
   ]
  },
  {
   "cell_type": "markdown",
   "id": "60cb00ba",
   "metadata": {},
   "source": [
    "#### Step 2: Define the Ollama Model\n",
    "We use a custom `OllamaModel` class to interface with the generative model."
   ]
  },
  {
   "cell_type": "code",
   "execution_count": null,
   "id": "80999aca",
   "metadata": {},
   "outputs": [],
   "source": [
    "import ollama\n",
    "\n",
    "class OllamaModel:\n",
    "    def __init__(self, base_model='llama3', system_prompt='You are a helpful assistant', model_name='llama3o',\n",
    "                 **kwargs):\n",
    "        self.base_model = base_model\n",
    "        self.model_name = model_name\n",
    "        self.model_create(model_name, system_prompt, base_model, **kwargs)\n",
    "\n",
    "    def model_create(self, model_name, system_prompt, base_model, **kwargs):\n",
    "        modelfile = f'FROM {base_model}\\nSYSTEM {system_prompt}\\n'\n",
    "        if kwargs:\n",
    "            for key, value in kwargs.items():\n",
    "                modelfile += f'PARAMETER {key.lower()} {value}\\n'\n",
    "        ollama.create(model=model_name, modelfile=modelfile)\n",
    "\n",
    "    def invoke(self, prompt):\n",
    "        answer = ollama.generate(model=self.model_name, prompt=prompt)\n",
    "        return answer['response']"
   ]
  },
  {
   "cell_type": "markdown",
   "id": "9c77f0c7",
   "metadata": {},
   "source": [
    "#### Step 3: Set Up the Benchmarking Pipeline\n",
    "Import the `Pipeline` class from the `SAGED` library and define the benchmark configuration."
   ]
  },
  {
   "cell_type": "code",
   "execution_count": null,
   "id": "fae67de2",
   "metadata": {},
   "outputs": [],
   "source": [
    "from saged import Pipeline\n",
    "\n",
    "# Initialize the Ollama model\n",
    "model = OllamaModel()\n",
    "\n",
    "# Define the generation function\n",
    "your_generation_function = model.invoke \n",
    "\n",
    "# Define the domain and concepts\n",
    "domain = 'nationalities'\n",
    "concept_list = ['Chinese']\n",
    "concept_keyword_mapping = {'Chinese': 'Xin'}\n",
    "keywords_references = list(concept_keyword_mapping.keys())\n",
    "\n",
    "# Configure concept settings\n",
    "concept_configuration = {\n",
    "    'keyword_finder': {\n",
    "        'require': False,\n",
    "    },\n",
    "    'source_finder': {\n",
    "        'require': False,\n",
    "        'method': 'local_files'\n",
    "    },\n",
    "    'scraper': {\n",
    "        'method': 'local_files'\n",
    "    },\n",
    "    'prompt_maker': {\n",
    "        'method': 'questions',\n",
    "        'generation_function': your_generation_function,\n",
    "        'max_benchmark_length': 2,\n",
    "    },\n",
    "}\n",
    "\n",
    "# Configure specific concept settings\n",
    "concept_specified_config = {\n",
    "    x: {'keyword_finder': {'manual_keywords': [concept_keyword_mapping[x]]}} for x in concept_list\n",
    "}"
   ]
  },
  {
   "cell_type": "markdown",
   "id": "a731b3d8",
   "metadata": {},
   "source": [
    "#### Step 4: Add Replacement Logic\n",
    "Create a dictionary for keyword replacements to analyze variations."
   ]
  },
  {
   "cell_type": "code",
   "execution_count": null,
   "id": "2879ec9d",
   "metadata": {},
   "outputs": [],
   "source": [
    "def create_replacement_dict(keywords_references, replacer):\n",
    "    replacement = {}\n",
    "    for keyword in keywords_references:\n",
    "        replacement[keyword] = {}\n",
    "        for item in replacer:\n",
    "            replacement[keyword][item] = {keyword: item}\n",
    "    return replacement\n",
    "\n",
    "replacer = ['Xin', 'Zekun', 'Ze', 'Shi', 'Huang']\n",
    "replacement = create_replacement_dict(keywords_references, replacer)"
   ]
  },
  {
   "cell_type": "markdown",
   "id": "72b772e5",
   "metadata": {},
   "source": [
    "#### Step 5: Configure the Domain\n",
    "Set up the domain-specific configurations for your benchmark."
   ]
  },
  {
   "cell_type": "code",
   "execution_count": null,
   "id": "b6965794",
   "metadata": {},
   "outputs": [],
   "source": [
    "domain_configuration = {\n",
    "    'categories': concept_list,\n",
    "    'branching': True,\n",
    "    'branching_config': {\n",
    "        'generation_function': your_generation_function,\n",
    "        'keyword_reference': keywords_references,\n",
    "        'replacement_descriptor_require': False,\n",
    "        'replacement_description': replacement,\n",
    "        'branching_pairs': 'not all',\n",
    "        'direction': 'not both',\n",
    "    },\n",
    "    'shared_config': concept_configuration,\n",
    "    'category_specified_config': concept_specified_config\n",
    "}"
   ]
  },
  {
   "cell_type": "markdown",
   "id": "ca0a2c60",
   "metadata": {},
   "source": [
    "#### Step 6: Run the Benchmark\n",
    "Build and execute the benchmark using the `Pipeline` class."
   ]
  },
  {
   "cell_type": "code",
   "execution_count": null,
   "id": "4951a420",
   "metadata": {},
   "outputs": [],
   "source": [
    "benchmark = Pipeline.domain_benchmark_building(domain, domain_configuration).data"
   ]
  },
  {
   "cell_type": "markdown",
   "id": "27945b57",
   "metadata": {},
   "source": [
    "#### Step 7: Analyze the Benchmark Results\n",
    "The `benchmark` variable contains the results of the benchmarking process. Use tools like `pandas` or visualization libraries to analyze and display the results."
   ]
  },
  {
   "cell_type": "markdown",
   "id": "ef063b6a",
   "metadata": {},
   "source": [
    "### Notes:\n",
    "- **Customization**: Modify configurations (e.g., `concept_configuration`, `domain_configuration`) to suit your specific needs.\n",
    "- **Model Integration**: Replace the Ollama model with any other generative model by implementing a similar interface.\n",
    "- **Output**: Use the benchmark results to evaluate the performance of your model on the specified domain.\n",
    "\n",
    "This concludes the tutorial for setting up and running a benchmark with the `SAGED` library. Let me know if you have further questions!"
   ]
  }
 ],
 "metadata": {},
 "nbformat": 4,
 "nbformat_minor": 5
}
